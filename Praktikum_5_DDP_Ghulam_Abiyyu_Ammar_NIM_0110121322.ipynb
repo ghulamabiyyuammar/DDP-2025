{
  "nbformat": 4,
  "nbformat_minor": 0,
  "metadata": {
    "colab": {
      "provenance": [],
      "authorship_tag": "ABX9TyNguWPjLM79UJS8Yl6BBGQc",
      "include_colab_link": true
    },
    "kernelspec": {
      "name": "python3",
      "display_name": "Python 3"
    },
    "language_info": {
      "name": "python"
    }
  },
  "cells": [
    {
      "cell_type": "markdown",
      "metadata": {
        "id": "view-in-github",
        "colab_type": "text"
      },
      "source": [
        "<a href=\"https://colab.research.google.com/github/ghulamabiyyuammar/DDP-2025/blob/main/Praktikum_5_DDP_Ghulam_Abiyyu_Ammar_NIM_0110121322.ipynb\" target=\"_parent\"><img src=\"https://colab.research.google.com/assets/colab-badge.svg\" alt=\"Open In Colab\"/></a>"
      ]
    },
    {
      "cell_type": "code",
      "execution_count": null,
      "metadata": {
        "colab": {
          "base_uri": "https://localhost:8080/"
        },
        "id": "kcRLvbF7z3Gi",
        "outputId": "99f30144-3ecf-4853-e4a9-90110f5038eb"
      },
      "outputs": [
        {
          "output_type": "stream",
          "name": "stdout",
          "text": [
            "['Vario', 'Motor', 200, 'Hitam', 2]\n",
            "['Vario', 'Motor', 200, 'Hitam', 2, 8000000, 'metic']\n",
            "['Vario', 'Motor', 'Honda', 200, 'Hitam', 2, 8000000, 'metic']\n"
          ]
        }
      ],
      "source": [
        "namaKendaraan = \"Vario\"\n",
        "jenisKendaraan = \"Motor\"\n",
        "ccKendaraan = 200\n",
        "warnaKendaraan = \"Hitam\"\n",
        "rodaKendaraan = 2\n",
        "\n",
        "data_kendaraan = [namaKendaraan,jenisKendaraan,ccKendaraan,warnaKendaraan,rodaKendaraan]\n",
        "print(data_kendaraan)\n",
        "\n",
        "hargaKendaraan = 8000000\n",
        "tipeKendaraan = \"metic\"\n",
        "\n",
        "data_kendaraan.append(hargaKendaraan)\n",
        "data_kendaraan.append(tipeKendaraan)\n",
        "print(data_kendaraan)\n",
        "\n",
        "merkKendaraan =\"Honda\"\n",
        "data_kendaraan.insert(2,merkKendaraan)\n",
        "print(data_kendaraan)\n"
      ]
    },
    {
      "cell_type": "code",
      "source": [
        "pilihan = int(input(\"\"\"\n",
        "\n",
        "Silahkan pilih menu yang diinginkan\n",
        "================================\n",
        "1.Luas Persegi\n",
        "2.Luas Lingkaran\n",
        "3.Luas Segitiga\n",
        "================================\n",
        "Kirimkan hanya angka saja, = \"\"\"))\n",
        "\n",
        "match pilihan:\n",
        "  case 1:\n",
        "     sisi=float(input(\"masukan panjang sisi persegi:\"))\n",
        "     luas_persegi = sisi * sisi\n",
        "     print(\"luas persegi adalah:\", luas_persegi)\n",
        "  case 2:\n",
        "      jari_jari = float(input(\"mmasukan jari-jari lingkaran:\"))\n",
        "      luas_lingkaran = 3.14 * jari_jari * jari_jari\n",
        "      print(\"luas lingkaran adalah:\", luas_lingkaran)\n",
        "  case 3:\n",
        "      alas = float(input(\"masukan alas segitiga:\"))\n",
        "      tinggi = float(input(\"masukan tinggi segitiga:\"))\n",
        "      luas_segitiga = 0.5 * alas * tinggi\n",
        "      print(\"luas segitiga adalah:\", luas_segitiga)\n",
        "  case _:\n",
        "      print(\"salah pilih\")"
      ],
      "metadata": {
        "id": "Y-FBYJ9MDXtQ",
        "colab": {
          "base_uri": "https://localhost:8080/"
        },
        "outputId": "6e3f9b31-923d-4624-9855-6d6910632f87"
      },
      "execution_count": 2,
      "outputs": [
        {
          "output_type": "stream",
          "name": "stdout",
          "text": [
            "\n",
            "\n",
            "Silahkan pilih menu yang dibinginkan\n",
            "================================\n",
            "1.Luas Persegi\n",
            "2.Luas Lingkaran\n",
            "3.Luas Segitiga\n",
            "================================\n",
            "Kirimkan hanya angka saja, = 1\n",
            "masukan panjang sisi persegi:20\n",
            "luas persegi adalah: 400.0\n"
          ]
        }
      ]
    }
  ]
}